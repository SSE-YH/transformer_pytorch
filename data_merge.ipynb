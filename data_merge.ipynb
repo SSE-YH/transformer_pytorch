{
 "cells": [
  {
   "cell_type": "code",
   "execution_count": 11,
   "metadata": {},
   "outputs": [],
   "source": [
    "import pandas as pd\n",
    "\n",
    "# 파일 경로 설정\n",
    "file1_path = './data/bible-all.en.txt'\n",
    "file2_path = './data/bible-all.kr.txt'\n",
    "\n",
    "# 파일 읽기 (각 줄이 데이터라고 가정)\n",
    "with open(file1_path, 'r', encoding='utf') as file1:\n",
    "    data1 = [line.strip() for line in file1]\n",
    "\n",
    "with open(file2_path, 'r', encoding='utf') as file2:\n",
    "    data2 = [line.strip() for line in file2]\n",
    "\n",
    "# DataFrame 생성\n",
    "# 파일 1의 데이터는 첫 번째 컬럼, 파일 2의 데이터는 두 번째 컬럼으로 사용\n",
    "df = pd.DataFrame({\n",
    "    'eng': data1,\n",
    "    'kor': data2\n",
    "})\n",
    "\n",
    "# 결과 출력\n",
    "\n",
    "\n",
    "df['eng'] = df['eng'].apply(lambda x : ' '.join(x.split(' ')[1:]))\n",
    "df['kor'] = df['kor'].apply(lambda x : ' '.join(x.split(' ')[1:]))\n",
    "\n",
    "df.to_csv('./data/bible_data.csv', index=False)"
   ]
  },
  {
   "cell_type": "code",
   "execution_count": 12,
   "metadata": {},
   "outputs": [
    {
     "data": {
      "text/html": [
       "<div>\n",
       "<style scoped>\n",
       "    .dataframe tbody tr th:only-of-type {\n",
       "        vertical-align: middle;\n",
       "    }\n",
       "\n",
       "    .dataframe tbody tr th {\n",
       "        vertical-align: top;\n",
       "    }\n",
       "\n",
       "    .dataframe thead th {\n",
       "        text-align: right;\n",
       "    }\n",
       "</style>\n",
       "<table border=\"1\" class=\"dataframe\">\n",
       "  <thead>\n",
       "    <tr style=\"text-align: right;\">\n",
       "      <th></th>\n",
       "      <th>eng</th>\n",
       "      <th>kor</th>\n",
       "    </tr>\n",
       "  </thead>\n",
       "  <tbody>\n",
       "    <tr>\n",
       "      <th>0</th>\n",
       "      <td>In the beginning God created the heavens and ...</td>\n",
       "      <td>태초에 하나님이 천지를 창조하셨다.</td>\n",
       "    </tr>\n",
       "    <tr>\n",
       "      <th>1</th>\n",
       "      <td>Now the earth was formless and empty, darknes...</td>\n",
       "      <td>땅이 혼돈하고 공허하며, 어둠이 깊음 위에 있고, 하나님의 영은 물 위에 움직이고...</td>\n",
       "    </tr>\n",
       "    <tr>\n",
       "      <th>2</th>\n",
       "      <td>And God said, \"Let there be light,\" and there...</td>\n",
       "      <td>하나님이 말씀하시기를 \"빛이 생겨라\" 하시니, 빛이 생겼다.</td>\n",
       "    </tr>\n",
       "    <tr>\n",
       "      <th>3</th>\n",
       "      <td>God saw that the light was good, and He separ...</td>\n",
       "      <td>그 빛이 하나님 보시기에 좋았다. 하나님이 빛과 어둠을 나누셔서,</td>\n",
       "    </tr>\n",
       "    <tr>\n",
       "      <th>4</th>\n",
       "      <td>God called the light \"day,\" and the darkness ...</td>\n",
       "      <td>빛을 낮이라고 하시고, 어둠을 밤이라고 하셨다. 저녁이 되고 아침이 되니, 하루가...</td>\n",
       "    </tr>\n",
       "  </tbody>\n",
       "</table>\n",
       "</div>"
      ],
      "text/plain": [
       "                                                 eng  \\\n",
       "0   In the beginning God created the heavens and ...   \n",
       "1   Now the earth was formless and empty, darknes...   \n",
       "2   And God said, \"Let there be light,\" and there...   \n",
       "3   God saw that the light was good, and He separ...   \n",
       "4   God called the light \"day,\" and the darkness ...   \n",
       "\n",
       "                                                 kor  \n",
       "0                                태초에 하나님이 천지를 창조하셨다.  \n",
       "1   땅이 혼돈하고 공허하며, 어둠이 깊음 위에 있고, 하나님의 영은 물 위에 움직이고...  \n",
       "2                  하나님이 말씀하시기를 \"빛이 생겨라\" 하시니, 빛이 생겼다.  \n",
       "3               그 빛이 하나님 보시기에 좋았다. 하나님이 빛과 어둠을 나누셔서,  \n",
       "4   빛을 낮이라고 하시고, 어둠을 밤이라고 하셨다. 저녁이 되고 아침이 되니, 하루가...  "
      ]
     },
     "execution_count": 12,
     "metadata": {},
     "output_type": "execute_result"
    }
   ],
   "source": [
    "data = pd.read_csv('./data/bible_data.csv')\n",
    "data.head()"
   ]
  }
 ],
 "metadata": {
  "kernelspec": {
   "display_name": "venv",
   "language": "python",
   "name": "python3"
  },
  "language_info": {
   "codemirror_mode": {
    "name": "ipython",
    "version": 3
   },
   "file_extension": ".py",
   "mimetype": "text/x-python",
   "name": "python",
   "nbconvert_exporter": "python",
   "pygments_lexer": "ipython3",
   "version": "3.9.13"
  }
 },
 "nbformat": 4,
 "nbformat_minor": 2
}
